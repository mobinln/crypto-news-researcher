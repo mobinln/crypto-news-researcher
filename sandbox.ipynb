{
 "cells": [
  {
   "cell_type": "code",
   "execution_count": 1,
   "id": "87d286ce",
   "metadata": {},
   "outputs": [],
   "source": [
    "import sqlite3\n",
    "import pandas as pd"
   ]
  },
  {
   "cell_type": "code",
   "execution_count": 16,
   "id": "e269d508",
   "metadata": {},
   "outputs": [],
   "source": [
    "conn = sqlite3.connect(\"./crypto_news.db\")\n",
    "\n",
    "query = \"SELECT * FROM news_articles\"\n",
    "df = pd.read_sql_query(query, conn, index_col=\"id\")"
   ]
  },
  {
   "cell_type": "code",
   "execution_count": 19,
   "id": "a83c1212",
   "metadata": {},
   "outputs": [
    {
     "data": {
      "text/plain": [
       "<Axes: >"
      ]
     },
     "execution_count": 19,
     "metadata": {},
     "output_type": "execute_result"
    },
    {
     "data": {
      "image/png": "[encoded data removed]",
      "text/plain": [
       "<Figure size 640x480 with 1 Axes>"
      ]
     },
     "metadata": {},
     "output_type": "display_data"
    }
   ],
   "source": [
    "df[\"sentiment\"].hist()"
   ]
  },
  {
   "cell_type": "code",
   "execution_count": 44,
   "id": "d6b68d80",
   "metadata": {},
   "outputs": [],
   "source": [
    "import feedparser\n",
    "\n",
    "# res = feedparser.parse('https://decrypt.co/feed')\n",
    "# res = feedparser.parse('https://www.theblock.co/rss.xml')\n",
    "res = feedparser.parse(\"https://cryptonews.com/news/feed/\")"
   ]
  },
  {
   "cell_type": "code",
   "execution_count": 45,
   "id": "906b582e",
   "metadata": {},
   "outputs": [
    {
     "data": {
      "text/plain": [
       "'https://cryptonews.com/news/bitcoin-cash-price-prediction-as-uptrend-continues-1000-bch/'"
      ]
     },
     "execution_count": 45,
     "metadata": {},
     "output_type": "execute_result"
    }
   ],
   "source": [
    "res[\"entries\"][0][\"link\"]"
   ]
  },
  {
   "cell_type": "code",
   "execution_count": 46,
   "id": "7d397369",
   "metadata": {},
   "outputs": [],
   "source": [
    "import requests\n",
    "\n",
    "headers = {\n",
    "    \"User-Agent\": \"Mozilla/5.0 (Macintosh; Intel Mac OS X 10_15_7) AppleWebKit/537.36 (KHTML, like Gecko) Chrome/138.0.0.0 Safari/537.36\"\n",
    "}\n",
    "response = requests.get(res[\"entries\"][0][\"link\"], headers=headers, timeout=10)"
   ]
  },
  {
   "cell_type": "code",
   "execution_count": null,
   "id": "330a324a",
   "metadata": {},
   "outputs": [
    {
     "name": "stdout",
     "output_type": "stream",
     "text": [
      ".article-single__content\n"
     ]
    }
   ],
   "source": [
    "from bs4 import BeautifulSoup\n",
    "\n",
    "soup = BeautifulSoup(response.content, \"html.parser\")\n",
    "\n",
    "# Remove script and style elements\n",
    "for script in soup([\"script\", \"style\", \"nav\", \"footer\", \"header\"]):\n",
    "    script.decompose()\n",
    "\n",
    "# Try to find main content\n",
    "content = \"\"\n",
    "for selector in [\n",
    "    \".post-content\",\n",
    "    \".articleContent\",\n",
    "    \".article-single__content\",\n",
    "    \"main\",\n",
    "    \".content\",\n",
    "    \"article\",\n",
    "    \".article-content\",\n",
    "]:\n",
    "    element = soup.select_one(selector)\n",
    "    if element:\n",
    "        content = element.get_text(strip=True)\n",
    "        print(selector)\n",
    "        break\n",
    "\n",
    "if not content:\n",
    "    content = soup.get_text(strip=True)\n",
    "    print(\"text\")"
   ]
  },
  {
   "cell_type": "code",
   "execution_count": 50,
   "id": "b21ecba0",
   "metadata": {},
   "outputs": [
    {
     "data": {
      "text/plain": [
       "'Bitcoin Cash Price Prediction as Uptrend Continues – How Quickly Can BCH Hit $1,000?Bitcoin CashPrice PredictionTechnical AnalysisAd DisclosureAd DisclosureWe believe in full transparency with our readers. Some of our content includes affiliate links, and we may earn a commission through these partnerships. However, this potential compensation never influences our analysis, opinions, or reviews. Our editorial content is created independently of our marketing partnerships, and our ratings are based solely on our established evaluation criteria.Read MoreAltcoin season sentiment is fueling a deeper capital rotation into risk assets, positioning Bitcoin Cash (BCH) for a potential move toward higher price targets.Ad DisclosureAd DisclosureWe believe in full transparency with our readers. Some of our content includes affiliate links, and we may earn a commission through these partnerships. However, this potential compensation never influences our analysis, opinions, or reviews. Our editorial content is created independently of our marketing partnerships, and our ratings are based solely on our established evaluation criteria.Read MoreContent WriterHarvey HunterContent WriterHarvey HunterAbout AuthorHarvey Hunter is a Content Writer at Cryptonews.com. With a background in Computer Science, IT, and Mathematics, he seamlessly transitioned from tech geek to crypto journalist.Author ProfileShareCopiedAd DisclosureAd DisclosureWe believe in full transparency with our readers. Some of our content includes affiliate links, and we may earn a commission through these partnerships. However, this potential compensation never influences our analysis, opinions, or reviews. Our editorial content is created independently of our marketing partnerships, and our ratings are based solely on our established evaluation criteria.Read MoreLast updated:July 22, 2025Why Trust CryptonewsCryptonews has covered the cryptocurrency industry topics since 2017, aiming to provide informative insights to our readers. Our journalists and analysts have extensive experience in market analysis and blockchain technologies. We strive to maintain higheditorial standards, focusing on factual accuracy and balanced reporting across all areas - from cryptocurrencies and blockchain projects to industry events, products, and technological developments. Our ongoing presence in the industry reflects our commitment to delivering relevant information in the evolving world of digital assets.Read more about CryptonewsDisclaimer: Crypto is a high-risk asset class. This article is provided for informational purposes and does not constitute investment advice. You could lose all of your capital.A bullishBitcoin Cash price predictionis gaining traction as BCH continues to print higher lows, fueled by a fresh wave of retail liquidity – an early sign that a broader uptrend may be taking shape.While thealtcoinis down 2.85% today, it’s still up 6% over the past week, pointing to strong underlying momentum.The market warming catalyst now takes the forefront, with pro-crypto regulatory momentum unlocking sidelined capital for risk-on assets and easing the Geopolitical and macroeconomic FUD narrative.With the GENIUS Act still under consideration in Congress and the CLARITY Act expected to follow in October, bullish catalysts now extend well beyond “Crypto Week” setting the stage for continued upside.🇺🇸 Crypto Czar David Sacks:Market Structure Clarity Act To Pass By Octoberpic.twitter.com/N06UKHAdRo— Altcoin Daily (@AltcoinDaily)July 19, 2025Can Bitcoin Cash Keep Growing?Bitcoin Cash does not directly benefit from the GENIUS Act without a native stablecoin in its ecosystem. Instead, it gains from the act as a broader market-warming catalyst.Its core value proposition as a payment solution positions BCH well to benefit from the CLARITY Act. With clearer regulatory guidelines, BCH could see momentum as a viable option for U.S. merchant adoption.Until then, it continues to ride the momentum of the wider market, with thealtcoin season indexrising from 20 to 53 since the start of the month—still shy of the 75 considered a full altseason.Altcoin Season Index. Source: Coinglass.Retail investors are re-entering the market with renewed appetite for alternatives to Bitcoin, positioning Bitcoin Cash for further growth.Bitcoin Cash Price Analysis: How Soon Can $1000 Come?With altcoin season gearing up, the ascending channel forming since the mid-April market bottom may finally have the momentum it needs to reach a breakout.BCH / USDT 4-hour chart, ascending channel breakout nears. Source: TradingView, Binance.The Bitcoin Cash price currently trades within a consolidation zone between strong support at $490 and stiff resistance at $555, capping its latest upward move.However, a consistent pattern of higher lows since mid-July suggests growing bullish momentum, setting BCH on track to retest resistance with stronger footing.The RSI sets up the next higher low, now near the neutral 50 level after its most recent rejection saw buy pressure exhausted, breaching into oversold territory at 74.The MACD line also shows early signs of a reversal as its histogram shows a slowdown, opening the doors for a crossover back above the signal line ahead of a new swing high.A breakout above $555 remains the last barrier for a channel breakout. If successful, the next key resistance is the December 2024 high around $640.If $640 flips to support, the push could go on toward its $720 all-time high, and potentially enter price discovery near $1,000, especially if momentum builds ahead of the anticipated CLARITY Act in October.This milestone would represent a 90% upside from current levels.Bitcoin Could Have the Edge, With Some HelpThose who jumped to Bitcoin Cash over the original may be forced to reconsider as the Bitcoin ecosystem finally addresses its most significant limitation: scalability.Slow transactions, high fees, and limited programmability have held it back from competing with EVM and Solana networks – until now.And this shift starts withBitcoin Hyper ($HYPER), Bitcoin’s first real-time Layer 2 that brings Solana-level speed and smart contracts directly to the Bitcoin ecosystem.Powered by the Solana Virtual Machine (SVM) and anchored by a decentralized Canonical Bridge, it enables fast, cheap, and composable dApps while remaining secured by Bitcoin.With over $4 million raised in itsongoing presale, investors are already rallying behind$HYPER, potentially credited to itshigh 231% APY on stakingthat rewards early investors.You can keep up with Bitcoin Hyper onXandTelegram, or join the presale on theBitcoin Hyper website.Follow us on Google NewsTrending NewsRecommendedPopular Crypto TopicsPrice PredictionsHow Tether Co-Founder William Quigley Views Crypto Regulations in Trump’s Second TermTrump Appoints PayPal Veteran David Sacks as ‘White House AI and Crypto Czar’China’s DeepSeek AI Predicts the Price of XRP, Dogecoin and Hyperliquid by the End of July 2025ChatGPT Predicts the Price of XRP, Dogecoin and Shiba Inu by the End of 2025China’s DeepSeek AI Predicts the Price of XRP, Solana and Cardano by the End of 2025Price AnalysisXRP Price Prediction: XRP Positioned for Trillions in Global Liquidity – Can XRP Overtake Bitcoin?2025-07-21 16:47:19,by Alejandro ArriechePrice AnalysisXRP Price Prediction: XRP Flips McDonald’s in Market Cap – Could XRP Reach $100,000?2025-07-22 16:46:19,by Alejandro ArriechePress ReleasesXRP News Prediction: XRP Breaks through the Historical High of $3.60, with a Short-term Target of $4Best Crypto to Buy Now in July 2025 – Top Crypto to Invest In2025-07-22 14:22:52,by Alan DraperBest New Cryptocurrencies to Invest in on July 22, 20252025-07-21 10:50:50,by Ines S. Tavares12 Best Crypto Presales to Invest In 2025 – Presale Crypto List2025-07-21 07:19:15,by Alan Draper16 New & Upcoming Coinbase Listings in July 20252025-07-22 04:44:21,by Ilija Rankovic15 New & Upcoming Binance Listings in 20252025-07-22 04:14:35,by Ilija RankovicWhat Is the Next Crypto to Explode in 2025?2025-07-22 13:30:12,by Ilija RankovicBitcoin (BTC) Price Prediction 2025 – 20302025-07-22 07:30:00,by Leon WatersRipple (XRP) Price Prediction 2025, 2026 – 20302025-07-05 04:55:17,by Eric HuffmanEthereum Price Prediction 2025–2030: Will ETH Bounce Back?2025-04-02 12:04:31,by Ben Beddow'"
      ]
     },
     "execution_count": 50,
     "metadata": {},
     "output_type": "execute_result"
    }
   ],
   "source": [
    "content"
   ]
  },
  {
   "cell_type": "code",
   "execution_count": null,
   "id": "3b3e901b",
   "metadata": {},
   "outputs": [],
   "source": []
  }
 ],
 "metadata": {
  "kernelspec": {
   "display_name": ".venv",
   "language": "python",
   "name": "python3"
  },
  "language_info": {
   "codemirror_mode": {
    "name": "ipython",
    "version": 3
   },
   "file_extension": ".py",
   "mimetype": "text/x-python",
   "name": "python",
   "nbconvert_exporter": "python",
   "pygments_lexer": "ipython3",
   "version": "3.13.4"
  }
 },
 "nbformat": 4,
 "nbformat_minor": 5
}
